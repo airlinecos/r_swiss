{
 "cells": [
  {
   "cell_type": "markdown",
   "metadata": {},
   "source": [
    "### swiss {dataset}\tDocumentazione R\n",
    "\n",
    "# Indicatori svizzeri sulla fertilità e gli indicatori socioeconomici (1888)\n",
    "\n",
    "## Descrizione\n",
    "Misura di fertilità standardizzata e indicatori socio-economici per ciascuna delle 47 province francofone della Svizzera intorno al 1888."
   ]
  },
  {
   "cell_type": "code",
   "execution_count": 1,
   "metadata": {},
   "outputs": [
    {
     "data": {
      "text/html": [
       "<table>\n",
       "<thead><tr><th></th><th scope=col>Fertility</th><th scope=col>Agriculture</th><th scope=col>Examination</th><th scope=col>Education</th><th scope=col>Catholic</th><th scope=col>Infant.Mortality</th></tr></thead>\n",
       "<tbody>\n",
       "\t<tr><th scope=row>Courtelary</th><td>80.2 </td><td>17.0 </td><td>15   </td><td>12   </td><td> 9.96</td><td>22.2 </td></tr>\n",
       "\t<tr><th scope=row>Delemont</th><td>83.1 </td><td>45.1 </td><td> 6   </td><td> 9   </td><td>84.84</td><td>22.2 </td></tr>\n",
       "\t<tr><th scope=row>Franches-Mnt</th><td>92.5 </td><td>39.7 </td><td> 5   </td><td> 5   </td><td>93.40</td><td>20.2 </td></tr>\n",
       "\t<tr><th scope=row>Moutier</th><td>85.8 </td><td>36.5 </td><td>12   </td><td> 7   </td><td>33.77</td><td>20.3 </td></tr>\n",
       "\t<tr><th scope=row>Neuveville</th><td>76.9 </td><td>43.5 </td><td>17   </td><td>15   </td><td> 5.16</td><td>20.6 </td></tr>\n",
       "\t<tr><th scope=row>Porrentruy</th><td>76.1 </td><td>35.3 </td><td> 9   </td><td> 7   </td><td>90.57</td><td>26.6 </td></tr>\n",
       "</tbody>\n",
       "</table>\n"
      ],
      "text/latex": [
       "\\begin{tabular}{r|llllll}\n",
       "  & Fertility & Agriculture & Examination & Education & Catholic & Infant.Mortality\\\\\n",
       "\\hline\n",
       "\tCourtelary & 80.2  & 17.0  & 15    & 12    &  9.96 & 22.2 \\\\\n",
       "\tDelemont & 83.1  & 45.1  &  6    &  9    & 84.84 & 22.2 \\\\\n",
       "\tFranches-Mnt & 92.5  & 39.7  &  5    &  5    & 93.40 & 20.2 \\\\\n",
       "\tMoutier & 85.8  & 36.5  & 12    &  7    & 33.77 & 20.3 \\\\\n",
       "\tNeuveville & 76.9  & 43.5  & 17    & 15    &  5.16 & 20.6 \\\\\n",
       "\tPorrentruy & 76.1  & 35.3  &  9    &  7    & 90.57 & 26.6 \\\\\n",
       "\\end{tabular}\n"
      ],
      "text/markdown": [
       "\n",
       "| <!--/--> | Fertility | Agriculture | Examination | Education | Catholic | Infant.Mortality | \n",
       "|---|---|---|---|---|---|\n",
       "| Courtelary | 80.2  | 17.0  | 15    | 12    |  9.96 | 22.2  | \n",
       "| Delemont | 83.1  | 45.1  |  6    |  9    | 84.84 | 22.2  | \n",
       "| Franches-Mnt | 92.5  | 39.7  |  5    |  5    | 93.40 | 20.2  | \n",
       "| Moutier | 85.8  | 36.5  | 12    |  7    | 33.77 | 20.3  | \n",
       "| Neuveville | 76.9  | 43.5  | 17    | 15    |  5.16 | 20.6  | \n",
       "| Porrentruy | 76.1  | 35.3  |  9    |  7    | 90.57 | 26.6  | \n",
       "\n",
       "\n"
      ],
      "text/plain": [
       "             Fertility Agriculture Examination Education Catholic\n",
       "Courtelary   80.2      17.0        15          12         9.96   \n",
       "Delemont     83.1      45.1         6           9        84.84   \n",
       "Franches-Mnt 92.5      39.7         5           5        93.40   \n",
       "Moutier      85.8      36.5        12           7        33.77   \n",
       "Neuveville   76.9      43.5        17          15         5.16   \n",
       "Porrentruy   76.1      35.3         9           7        90.57   \n",
       "             Infant.Mortality\n",
       "Courtelary   22.2            \n",
       "Delemont     22.2            \n",
       "Franches-Mnt 20.2            \n",
       "Moutier      20.3            \n",
       "Neuveville   20.6            \n",
       "Porrentruy   26.6            "
      ]
     },
     "metadata": {},
     "output_type": "display_data"
    }
   ],
   "source": [
    "library(datasets)\n",
    "swiss <- datasets::swiss\n",
    "head(swiss)"
   ]
  },
  {
   "cell_type": "markdown",
   "metadata": {},
   "source": [
    "Le variabili sono:\n",
    "\n",
    "1. **Fertility**\t    Ig , \"misura di fertilità standardizzata comune\"\n",
    "2. **Agriculture**\t    % di uomini coinvolti nell'agricoltura come occupazione\n",
    "3. **Examination**\t    % di reclute che ricevono il punteggio più alto all'esame dell'esercito\n",
    "4. **Education**\t    % aventi un'istruzione oltre la scuola primaria tra le reclute\n",
    "5. **Catholic** \t    % di cattolici (invece di protestante).\n",
    "6. **Infant.Mortality** % di nati e sopravvissuti al parto che vivono meno di 1 anno"
   ]
  },
  {
   "cell_type": "code",
   "execution_count": 2,
   "metadata": {},
   "outputs": [
    {
     "data": {
      "text/html": [
       "<ol class=list-inline>\n",
       "\t<li>'Courtelary'</li>\n",
       "\t<li>'Delemont'</li>\n",
       "\t<li>'Franches-Mnt'</li>\n",
       "\t<li>'Moutier'</li>\n",
       "\t<li>'Neuveville'</li>\n",
       "\t<li>'Porrentruy'</li>\n",
       "\t<li>'Broye'</li>\n",
       "\t<li>'Glane'</li>\n",
       "\t<li>'Gruyere'</li>\n",
       "\t<li>'Sarine'</li>\n",
       "\t<li>'Veveyse'</li>\n",
       "\t<li>'Aigle'</li>\n",
       "\t<li>'Aubonne'</li>\n",
       "\t<li>'Avenches'</li>\n",
       "\t<li>'Cossonay'</li>\n",
       "\t<li>'Echallens'</li>\n",
       "\t<li>'Grandson'</li>\n",
       "\t<li>'Lausanne'</li>\n",
       "\t<li>'La Vallee'</li>\n",
       "\t<li>'Lavaux'</li>\n",
       "\t<li>'Morges'</li>\n",
       "\t<li>'Moudon'</li>\n",
       "\t<li>'Nyone'</li>\n",
       "\t<li>'Orbe'</li>\n",
       "\t<li>'Oron'</li>\n",
       "\t<li>'Payerne'</li>\n",
       "\t<li>'Paysd\\'enhaut'</li>\n",
       "\t<li>'Rolle'</li>\n",
       "\t<li>'Vevey'</li>\n",
       "\t<li>'Yverdon'</li>\n",
       "\t<li>'Conthey'</li>\n",
       "\t<li>'Entremont'</li>\n",
       "\t<li>'Herens'</li>\n",
       "\t<li>'Martigwy'</li>\n",
       "\t<li>'Monthey'</li>\n",
       "\t<li>'St Maurice'</li>\n",
       "\t<li>'Sierre'</li>\n",
       "\t<li>'Sion'</li>\n",
       "\t<li>'Boudry'</li>\n",
       "\t<li>'La Chauxdfnd'</li>\n",
       "\t<li>'Le Locle'</li>\n",
       "\t<li>'Neuchatel'</li>\n",
       "\t<li>'Val de Ruz'</li>\n",
       "\t<li>'ValdeTravers'</li>\n",
       "\t<li>'V. De Geneve'</li>\n",
       "\t<li>'Rive Droite'</li>\n",
       "\t<li>'Rive Gauche'</li>\n",
       "</ol>\n"
      ],
      "text/latex": [
       "\\begin{enumerate*}\n",
       "\\item 'Courtelary'\n",
       "\\item 'Delemont'\n",
       "\\item 'Franches-Mnt'\n",
       "\\item 'Moutier'\n",
       "\\item 'Neuveville'\n",
       "\\item 'Porrentruy'\n",
       "\\item 'Broye'\n",
       "\\item 'Glane'\n",
       "\\item 'Gruyere'\n",
       "\\item 'Sarine'\n",
       "\\item 'Veveyse'\n",
       "\\item 'Aigle'\n",
       "\\item 'Aubonne'\n",
       "\\item 'Avenches'\n",
       "\\item 'Cossonay'\n",
       "\\item 'Echallens'\n",
       "\\item 'Grandson'\n",
       "\\item 'Lausanne'\n",
       "\\item 'La Vallee'\n",
       "\\item 'Lavaux'\n",
       "\\item 'Morges'\n",
       "\\item 'Moudon'\n",
       "\\item 'Nyone'\n",
       "\\item 'Orbe'\n",
       "\\item 'Oron'\n",
       "\\item 'Payerne'\n",
       "\\item 'Paysd\\textbackslash{}'enhaut'\n",
       "\\item 'Rolle'\n",
       "\\item 'Vevey'\n",
       "\\item 'Yverdon'\n",
       "\\item 'Conthey'\n",
       "\\item 'Entremont'\n",
       "\\item 'Herens'\n",
       "\\item 'Martigwy'\n",
       "\\item 'Monthey'\n",
       "\\item 'St Maurice'\n",
       "\\item 'Sierre'\n",
       "\\item 'Sion'\n",
       "\\item 'Boudry'\n",
       "\\item 'La Chauxdfnd'\n",
       "\\item 'Le Locle'\n",
       "\\item 'Neuchatel'\n",
       "\\item 'Val de Ruz'\n",
       "\\item 'ValdeTravers'\n",
       "\\item 'V. De Geneve'\n",
       "\\item 'Rive Droite'\n",
       "\\item 'Rive Gauche'\n",
       "\\end{enumerate*}\n"
      ],
      "text/markdown": [
       "1. 'Courtelary'\n",
       "2. 'Delemont'\n",
       "3. 'Franches-Mnt'\n",
       "4. 'Moutier'\n",
       "5. 'Neuveville'\n",
       "6. 'Porrentruy'\n",
       "7. 'Broye'\n",
       "8. 'Glane'\n",
       "9. 'Gruyere'\n",
       "10. 'Sarine'\n",
       "11. 'Veveyse'\n",
       "12. 'Aigle'\n",
       "13. 'Aubonne'\n",
       "14. 'Avenches'\n",
       "15. 'Cossonay'\n",
       "16. 'Echallens'\n",
       "17. 'Grandson'\n",
       "18. 'Lausanne'\n",
       "19. 'La Vallee'\n",
       "20. 'Lavaux'\n",
       "21. 'Morges'\n",
       "22. 'Moudon'\n",
       "23. 'Nyone'\n",
       "24. 'Orbe'\n",
       "25. 'Oron'\n",
       "26. 'Payerne'\n",
       "27. 'Paysd\\'enhaut'\n",
       "28. 'Rolle'\n",
       "29. 'Vevey'\n",
       "30. 'Yverdon'\n",
       "31. 'Conthey'\n",
       "32. 'Entremont'\n",
       "33. 'Herens'\n",
       "34. 'Martigwy'\n",
       "35. 'Monthey'\n",
       "36. 'St Maurice'\n",
       "37. 'Sierre'\n",
       "38. 'Sion'\n",
       "39. 'Boudry'\n",
       "40. 'La Chauxdfnd'\n",
       "41. 'Le Locle'\n",
       "42. 'Neuchatel'\n",
       "43. 'Val de Ruz'\n",
       "44. 'ValdeTravers'\n",
       "45. 'V. De Geneve'\n",
       "46. 'Rive Droite'\n",
       "47. 'Rive Gauche'\n",
       "\n",
       "\n"
      ],
      "text/plain": [
       " [1] \"Courtelary\"   \"Delemont\"     \"Franches-Mnt\" \"Moutier\"      \"Neuveville\"  \n",
       " [6] \"Porrentruy\"   \"Broye\"        \"Glane\"        \"Gruyere\"      \"Sarine\"      \n",
       "[11] \"Veveyse\"      \"Aigle\"        \"Aubonne\"      \"Avenches\"     \"Cossonay\"    \n",
       "[16] \"Echallens\"    \"Grandson\"     \"Lausanne\"     \"La Vallee\"    \"Lavaux\"      \n",
       "[21] \"Morges\"       \"Moudon\"       \"Nyone\"        \"Orbe\"         \"Oron\"        \n",
       "[26] \"Payerne\"      \"Paysd'enhaut\" \"Rolle\"        \"Vevey\"        \"Yverdon\"     \n",
       "[31] \"Conthey\"      \"Entremont\"    \"Herens\"       \"Martigwy\"     \"Monthey\"     \n",
       "[36] \"St Maurice\"   \"Sierre\"       \"Sion\"         \"Boudry\"       \"La Chauxdfnd\"\n",
       "[41] \"Le Locle\"     \"Neuchatel\"    \"Val de Ruz\"   \"ValdeTravers\" \"V. De Geneve\"\n",
       "[46] \"Rive Droite\"  \"Rive Gauche\" "
      ]
     },
     "metadata": {},
     "output_type": "display_data"
    }
   ],
   "source": [
    "row.names(swiss)"
   ]
  },
  {
   "cell_type": "code",
   "execution_count": 3,
   "metadata": {},
   "outputs": [
    {
     "data": {
      "image/png": "[encoded data removed]",
      "text/plain": [
       "Plot with title \"Istogramma della mortalità infantile\""
      ]
     },
     "metadata": {},
     "output_type": "display_data"
    }
   ],
   "source": [
    "attach(swiss)\n",
    "opar <- par(no.readonly=TRUE)\n",
    "par(mfrow=c(3,1))\n",
    "hist(Fertility, main=\"Istogramma della fertilità\",\n",
    "     xlab = \"fertilità\", ylab=\"conteggi\")\n",
    "hist(Education, main=\"Istogramma del livello culturale (Education)\",\n",
    "    xlab = \"livello culturale\", ylab=\"conteggi\")\n",
    "hist(Infant.Mortality, main=\"Istogramma della mortalità infantile\",\n",
    "    xlab = \"mortalità infantile\", ylab=\"conteggi\")\n",
    "par(opar)\n",
    "detach(swiss)"
   ]
  },
  {
   "cell_type": "code",
   "execution_count": 4,
   "metadata": {},
   "outputs": [
    {
     "data": {
      "image/png": "[encoded data removed]",
      "text/plain": [
       "Plot with title \"Diagramma a scatola e baffi \n",
       " (boxplot) della fertilità\""
      ]
     },
     "metadata": {},
     "output_type": "display_data"
    }
   ],
   "source": [
    "attach(swiss)\n",
    "opar <- par(no.readonly=TRUE)\n",
    "par(mfrow=c(2,2))\n",
    "plot(Fertility,Education, \n",
    "     main=\"Diagramma a dispersione di \\n livello culturale VS fertilità\",\n",
    "    xlab = \"fertilità\", ylab=\"livello culturale\")\n",
    "plot(Fertility,Infant.Mortality, main=\"Diagramma a dispersione di \\n  mortalità infantile VS fertilità\",\n",
    "    xlab = \"fertilità\", ylab=\"mortalità infantile\")\n",
    "hist(Fertility, main=\"Istogramma della fertilità\",\n",
    "    xlab = \"fertilità\", ylab=\"conteggi\")\n",
    "boxplot(Fertility, main=\"Diagramma a scatola e baffi \\n (boxplot) della fertilità\",\n",
    "       ylab=\"fertilità\")\n",
    "par(opar)\n",
    "detach(swiss)"
   ]
  },
  {
   "cell_type": "code",
   "execution_count": 5,
   "metadata": {},
   "outputs": [
    {
     "data": {
      "image/png": "[encoded data removed]",
      "text/plain": [
       "plot without title"
      ]
     },
     "metadata": {},
     "output_type": "display_data"
    }
   ],
   "source": [
    "opar <- par(no.readonly=TRUE)\n",
    "par(fig=c(0, 0.8, 0, 0.8))\n",
    "plot(swiss$Fertility, swiss$Education,\n",
    "xlab=\"fertilità\",\n",
    "ylab=\"livello culturale\")\n",
    "par(fig=c(0, 0.8, 0.55, 1), new=TRUE)\n",
    "boxplot(swiss$Fertility, horizontal=TRUE, axes=FALSE)\n",
    "par(fig=c(0.65, 1, 0, 0.8), new=TRUE)\n",
    "boxplot(swiss$Education, axes=FALSE)\n",
    "mtext(\"Diagramma a dispersione aumentato di \\n livello culturale VS fertilità\", side=3, outer=TRUE, line=-3)\n",
    "par(opar)"
   ]
  },
  {
   "cell_type": "markdown",
   "metadata": {},
   "source": [
    "Nota come gli outlier (i cerchi vuoti isolati nei diagrammi a scatola e baffi) corrispondono all'alto livello culturale e alla bassa fertilità accadeva tipicamente nei paesi sottosviluppati."
   ]
  },
  {
   "cell_type": "code",
   "execution_count": null,
   "metadata": {
    "collapsed": true
   },
   "outputs": [],
   "source": []
  }
 ],
 "metadata": {
  "anaconda-cloud": {},
  "kernelspec": {
   "display_name": "R",
   "language": "R",
   "name": "ir"
  },
  "language_info": {
   "codemirror_mode": "r",
   "file_extension": ".r",
   "mimetype": "text/x-r-source",
   "name": "R",
   "pygments_lexer": "r",
   "version": "3.5.0"
  }
 },
 "nbformat": 4,
 "nbformat_minor": 2
}
